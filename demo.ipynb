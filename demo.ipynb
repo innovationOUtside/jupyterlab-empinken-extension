{
 "cells": [
  {
   "cell_type": "markdown",
   "id": "03eeb7bb-209c-45e3-80d1-6662976617b8",
   "metadata": {
    "tags": []
   },
   "source": [
    "# `jupyterlab-empinken` Demo\n",
    "\n",
    "This notebook demos the use of the `jupyterlab-empinken` extension.\n",
    "\n",
    "This extension will render cells with abstracted cell tags using various coloured backgrounds:\n",
    "\n",
    "- `iou-activity`: *activity*, rendered light blue; a \"your turn\" background, indicating some prompt to activity;\n",
    "- `iou-solution`: *solution*, rendered light green; a \"take note\" background highlighting a solution to a particular problem or issue;\n",
    "- `iou-learner`: *learner*, rendered yellow; a call-to-action background highlighting cells students should make changes to...;\n",
    "- `iou-tutor`: *tutor*, rendered light pink; a stand-out background to raise learner attention to feedback notes from tutors, etc.\n",
    "\n",
    "Four buttons are provided that can toggle the cell tags:\n",
    "\n",
    "\n",
    "- `A`: activity;\n",
    "- `s`: solution;\n",
    "- `learner`: rendered yellow (it's too yell at the moment and needs detuning...;\n",
    "- `tutor`: rendered light pink.\n",
    "\n",
    "The actual tags and prefixes can be mapped differently via the settings. By default, the extension enables the empinken mapping by default, which is to say, the following settings:\n",
    "\n",
    "- `activity`: \n",
    "- `solution`:\n",
    "- `learner`:\n",
    "- `tutor`: \n",
    "\n",
    "__Currently, the button toggles state on a *single, selected cell*; the intention is to extend this to also be able to act on multiple selected cells.__"
   ]
  },
  {
   "cell_type": "markdown",
   "id": "21d67853-e960-468d-acb3-1812b92d982c",
   "metadata": {},
   "source": [
    "## Example Using `empinken` settings\n",
    "\n",
    "Using settings:\n",
    "    \n",
    "- `tag prefix`: `style-`\n",
    "- `activity`: `activity`\n",
    "- `solution`: `solution`\n",
    "- `learner`: `student`\n",
    "- `tutor`: `commentate`"
   ]
  },
  {
   "cell_type": "markdown",
   "id": "588fe880-b545-49c0-a7fe-0d8d4a7baef4",
   "metadata": {
    "tags": [
     "style-activity"
    ]
   },
   "source": [
    "### Example Activity\n",
    "\n",
    "These cells are tagged as `style-activity` cells."
   ]
  },
  {
   "cell_type": "code",
   "execution_count": 2,
   "id": "97b2d077-dc4c-4b95-9016-32d6592f6eb9",
   "metadata": {
    "tags": [
     "style-activity"
    ]
   },
   "outputs": [],
   "source": [
    "# These cells are tagged as `style-activity` cells."
   ]
  },
  {
   "cell_type": "markdown",
   "id": "c349ebfe-8509-426a-81dd-f7d54a5254c3",
   "metadata": {
    "tags": [
     "style-activity"
    ]
   },
   "source": [
    "These cells are tagged as `style-activity` cells."
   ]
  },
  {
   "cell_type": "markdown",
   "id": "ac6f6f67-47f3-4f2b-8483-2bb771e5c1c7",
   "metadata": {
    "tags": [
     "style-solution"
    ]
   },
   "source": [
    "### Example Solution\n",
    "\n",
    "These cells are tagged as `style-solution` cells."
   ]
  },
  {
   "cell_type": "code",
   "execution_count": 3,
   "id": "0b2b7902-4d25-4e83-b8bc-25e0ec78d7e5",
   "metadata": {
    "tags": [
     "style-solution"
    ]
   },
   "outputs": [],
   "source": [
    "# These cells are tagged as `style-solution` cells."
   ]
  },
  {
   "cell_type": "markdown",
   "id": "5a62b5e6-78dc-425b-8bb6-bcf2a21b3df6",
   "metadata": {
    "tags": [
     "style-solution"
    ]
   },
   "source": [
    "These cells are tagged as `style-solution` cells."
   ]
  },
  {
   "cell_type": "markdown",
   "id": "a54f964d-2d96-4ee9-b1de-187ffdbbf103",
   "metadata": {
    "tags": [
     "style-student"
    ]
   },
   "source": [
    "### Example Learner\n",
    "\n",
    "These cells are tagged as `style-student` cells."
   ]
  },
  {
   "cell_type": "code",
   "execution_count": 4,
   "id": "3f53d801-7c47-4304-9d1f-97e76cd33bc9",
   "metadata": {
    "tags": [
     "style-student"
    ]
   },
   "outputs": [],
   "source": [
    "# These cells are tagged as `style-student` cells."
   ]
  },
  {
   "cell_type": "markdown",
   "id": "c92d6695-7990-4b35-b518-26a5ce841cb4",
   "metadata": {
    "tags": [
     "style-student"
    ]
   },
   "source": [
    "These cells are tagged as `style-student` cells."
   ]
  },
  {
   "cell_type": "markdown",
   "id": "905c07ff-6437-4cfc-8918-80f4c151dc56",
   "metadata": {
    "tags": [
     "style-commentate"
    ]
   },
   "source": [
    "### Example Tutor\n",
    "\n",
    "These cells are tagged as `style-commentate` cells."
   ]
  },
  {
   "cell_type": "code",
   "execution_count": 5,
   "id": "7d234698-3509-49fe-a094-100cbcaa5a7e",
   "metadata": {
    "tags": [
     "style-commentate"
    ]
   },
   "outputs": [],
   "source": [
    "# These cells are tagged as `style-commentate` cells."
   ]
  },
  {
   "cell_type": "markdown",
   "id": "acd10aaf-9530-40f6-9f84-0b9fae472cee",
   "metadata": {
    "tags": [
     "style-commentate"
    ]
   },
   "source": [
    "These cells are tagged as `style-commentate` cells."
   ]
  },
  {
   "cell_type": "markdown",
   "id": "21227722-dcdb-442c-8684-8c9028b32ad5",
   "metadata": {},
   "source": [
    "## Abstract settings\n",
    "\n",
    "Using settings:\n",
    "    \n",
    "- `tag prefix`: `style-`\n",
    "- `activity`: `activity`\n",
    "- `solution`: `solution`\n",
    "- `learner`: `student`\n",
    "- `tutor`: `commentate`"
   ]
  },
  {
   "cell_type": "markdown",
   "id": "2b59cf85-861c-4b2b-9019-8a26e41952d9",
   "metadata": {
    "tags": [
     "iou-activity"
    ]
   },
   "source": [
    "### Example Activity\n",
    "\n",
    "These cells are tagged as `iou-activity` cells."
   ]
  },
  {
   "cell_type": "code",
   "execution_count": 6,
   "id": "3d3461fe-0cba-4d1f-97e2-e1293f7db833",
   "metadata": {
    "tags": [
     "iou-activity"
    ]
   },
   "outputs": [],
   "source": [
    "# These cells are tagged as `iou-activity` cells."
   ]
  },
  {
   "cell_type": "markdown",
   "id": "591e5fef-7b5c-4501-aeec-abc18f23c309",
   "metadata": {
    "tags": [
     "iou-activity"
    ]
   },
   "source": [
    "These cells are tagged as `iou-activity` cells."
   ]
  },
  {
   "cell_type": "markdown",
   "id": "e1302705-6feb-4cd5-9663-b2c973d38c80",
   "metadata": {
    "tags": [
     "iou-solution"
    ]
   },
   "source": [
    "### Example Solution\n",
    "\n",
    "These cells are tagged as `iou-solution` cells."
   ]
  },
  {
   "cell_type": "code",
   "execution_count": 7,
   "id": "60cf5a19-54d6-420b-abc3-02c6082c20eb",
   "metadata": {
    "tags": [
     "iou-solution"
    ]
   },
   "outputs": [],
   "source": [
    "# These cells are tagged as `iou-solution` cells."
   ]
  },
  {
   "cell_type": "markdown",
   "id": "6c55fdbf-56b1-4196-9a7b-5b298186835c",
   "metadata": {
    "tags": [
     "iou-solution"
    ]
   },
   "source": [
    "These cells are tagged as `iou-solution` cells."
   ]
  },
  {
   "cell_type": "markdown",
   "id": "bb8e3721-cae7-4e36-8d83-e0e0ac35e583",
   "metadata": {
    "tags": [
     "iou-learner"
    ]
   },
   "source": [
    "### Example Learner\n",
    "\n",
    "These cells are tagged as `iou-learner` cells."
   ]
  },
  {
   "cell_type": "code",
   "execution_count": 8,
   "id": "ea0d0b11-eace-4bb4-a996-a076b50f01ec",
   "metadata": {
    "tags": [
     "iou-learner"
    ]
   },
   "outputs": [],
   "source": [
    "# These cells are tagged as `iou-learner` cells."
   ]
  },
  {
   "cell_type": "markdown",
   "id": "799343e1-a28d-494a-bc31-1bf63b957f4e",
   "metadata": {
    "tags": [
     "iou-learner"
    ]
   },
   "source": [
    "These cells are tagged as `iou-learner` cells."
   ]
  },
  {
   "cell_type": "markdown",
   "id": "1d396a58-5673-46c2-88cf-622a0b20d840",
   "metadata": {
    "tags": [
     "iou-tutor"
    ]
   },
   "source": [
    "### Example Tutor\n",
    "\n",
    "These cells are tagged as `iou-tutor` cells."
   ]
  },
  {
   "cell_type": "markdown",
   "id": "d796301d-608d-4186-9e1e-8f7c4805e207",
   "metadata": {
    "tags": [
     "iou-tutor"
    ]
   },
   "source": [
    "These cells are tagged as `iou-tutor` cells."
   ]
  },
  {
   "cell_type": "code",
   "execution_count": 4,
   "id": "ac6fa47d-86be-4a7f-bd6d-c4e7e3c71d8f",
   "metadata": {
    "tags": [
     "iou-tutor"
    ]
   },
   "outputs": [],
   "source": [
    "# These cells are tagged as `iou-tutor` cells."
   ]
  },
  {
   "cell_type": "markdown",
   "id": "796d2b03-11fb-4a50-92a3-98eca0b88108",
   "metadata": {
    "tags": [
     "iou-tutor"
    ]
   },
   "source": [
    "These cells are tagged as `iou-tutor` cells."
   ]
  },
  {
   "cell_type": "markdown",
   "id": "70802d1f-3cb6-4b5f-b96a-d561a5eb2a6f",
   "metadata": {},
   "source": [
    "## Untagged Cells\n",
    "\n",
    "This cell is not tagged."
   ]
  },
  {
   "cell_type": "code",
   "execution_count": 7,
   "id": "0a217a5d-6acd-4332-a322-be137f3d0c70",
   "metadata": {},
   "outputs": [],
   "source": [
    "# This cell is not tagged."
   ]
  },
  {
   "cell_type": "markdown",
   "id": "8521444b-60ce-4162-9a8d-bbf3af3f52d7",
   "metadata": {},
   "source": [
    "This cell is not tagged."
   ]
  }
 ],
 "metadata": {
  "kernelspec": {
   "display_name": "Python 3",
   "language": "python",
   "name": "python3"
  },
  "language_info": {
   "codemirror_mode": {
    "name": "ipython",
    "version": 3
   },
   "file_extension": ".py",
   "mimetype": "text/x-python",
   "name": "python",
   "nbconvert_exporter": "python",
   "pygments_lexer": "ipython3",
   "version": "3.9.8"
  }
 },
 "nbformat": 4,
 "nbformat_minor": 5
}
