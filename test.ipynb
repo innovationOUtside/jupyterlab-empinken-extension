{
 "cells": [
  {
   "cell_type": "markdown",
   "id": "d587f89c-c110-448a-af80-a38bc07c4124",
   "metadata": {},
   "source": [
    "# Test\n"
   ]
  },
  {
   "cell_type": "markdown",
   "id": "5e37ba0d-4233-4440-aab1-b17fdb199c59",
   "metadata": {},
   "source": [
    "# White"
   ]
  },
  {
   "cell_type": "markdown",
   "id": "9ab4a421-7e0b-4a51-9b99-fd6675b7d5ec",
   "metadata": {
    "tags": [
     "activity"
    ]
   },
   "source": [
    "## Blue"
   ]
  },
  {
   "cell_type": "code",
   "execution_count": 2,
   "id": "f30bee71-dcbc-4424-a1ae-b1dd7e853fc3",
   "metadata": {
    "tags": [
     "activity"
    ]
   },
   "outputs": [],
   "source": [
    "# blue"
   ]
  },
  {
   "cell_type": "markdown",
   "id": "8d0800ad-af63-43e2-928f-1a5d6ef07670",
   "metadata": {
    "tags": [
     "learner"
    ]
   },
   "source": [
    "## Yellow"
   ]
  },
  {
   "cell_type": "code",
   "execution_count": 4,
   "id": "c7a38ca4-ebbd-4340-9406-77519a8660af",
   "metadata": {
    "tags": [
     "learner"
    ]
   },
   "outputs": [],
   "source": [
    "# yellow"
   ]
  },
  {
   "cell_type": "markdown",
   "id": "f207f6ca-3ae1-45e0-a7a9-d211b20f81ad",
   "metadata": {
    "tags": [
     "solution"
    ]
   },
   "source": [
    "## Green"
   ]
  },
  {
   "cell_type": "code",
   "execution_count": 6,
   "id": "da07185d-af07-4090-8fc5-3e7b143ae0d8",
   "metadata": {
    "tags": [
     "solution"
    ]
   },
   "outputs": [],
   "source": [
    "# green"
   ]
  },
  {
   "cell_type": "markdown",
   "id": "42579277-150b-48d9-996c-9d8899a887e0",
   "metadata": {
    "tags": [
     "tutor"
    ]
   },
   "source": [
    "## Red"
   ]
  },
  {
   "cell_type": "code",
   "execution_count": 7,
   "id": "130ba7be-bfc9-428b-8862-ee26e3644ea5",
   "metadata": {
    "tags": [
     "tutor"
    ]
   },
   "outputs": [],
   "source": [
    "# red"
   ]
  },
  {
   "cell_type": "code",
   "execution_count": 8,
   "id": "4eee6b26-f0d8-4e9b-b86d-ee469843bedf",
   "metadata": {},
   "outputs": [],
   "source": [
    "# white"
   ]
  },
  {
   "cell_type": "code",
   "execution_count": null,
   "id": "cb2f8431-321f-4837-a513-212058d0c577",
   "metadata": {},
   "outputs": [],
   "source": []
  }
 ],
 "metadata": {
  "kernelspec": {
   "display_name": "Python 3 (ipykernel)",
   "language": "python",
   "name": "python3"
  },
  "language_info": {
   "codemirror_mode": {
    "name": "ipython",
    "version": 3
   },
   "file_extension": ".py",
   "mimetype": "text/x-python",
   "name": "python",
   "nbconvert_exporter": "python",
   "pygments_lexer": "ipython3",
   "version": "3.11.4"
  }
 },
 "nbformat": 4,
 "nbformat_minor": 5
}
